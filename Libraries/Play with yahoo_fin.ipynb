{
 "cells": [
  {
   "cell_type": "markdown",
   "id": "pleased-dominican",
   "metadata": {},
   "source": [
    "# yahoo_fin\n",
    "\n",
    "This script demonstrates what can be obtained by using yahoo_fin library.\n",
    "\n",
    "Resources:\n",
    "- https://github.com/atreadw1492/yahoo_fin\n",
    "- http://theautomatic.net/yahoo_fin-documentation/\n",
    "- http://theautomatic.net/2018/07/31/how-to-get-live-stock-prices-with-python/"
   ]
  },
  {
   "cell_type": "code",
   "execution_count": 1,
   "id": "suspected-latest",
   "metadata": {},
   "outputs": [],
   "source": [
    "from yahoo_fin import stock_info as si "
   ]
  },
  {
   "cell_type": "markdown",
   "id": "rotary-metro",
   "metadata": {},
   "source": [
    "## tickers"
   ]
  },
  {
   "cell_type": "code",
   "execution_count": 2,
   "id": "twenty-austria",
   "metadata": {},
   "outputs": [
    {
     "data": {
      "text/plain": [
       "4691"
      ]
     },
     "execution_count": 2,
     "metadata": {},
     "output_type": "execute_result"
    }
   ],
   "source": [
    "nasdaq_ticker_list = si.tickers_nasdaq()\n",
    "len(nasdaq_ticker_list)"
   ]
  },
  {
   "cell_type": "code",
   "execution_count": 16,
   "id": "accessory-sitting",
   "metadata": {},
   "outputs": [
    {
     "data": {
      "text/plain": [
       "['AACG', 'AACQ', 'AACQU']"
      ]
     },
     "execution_count": 16,
     "metadata": {},
     "output_type": "execute_result"
    }
   ],
   "source": [
    "nasdaq_ticker_list[0:3]"
   ]
  },
  {
   "cell_type": "code",
   "execution_count": 10,
   "id": "fifty-password",
   "metadata": {},
   "outputs": [
    {
     "name": "stderr",
     "output_type": "stream",
     "text": [
      "C:\\Users\\tjtek\\anaconda3\\lib\\site-packages\\yahoo_fin\\stock_info.py:130: FutureWarning: The default value of regex will change from True to False in a future version. In addition, single character regular expressions will*not* be treated as literal strings when regex=True.\n",
      "  sp500[\"Symbol\"] = sp500[\"Symbol\"].str.replace(\".\", \"-\")\n"
     ]
    },
    {
     "data": {
      "text/plain": [
       "505"
      ]
     },
     "execution_count": 10,
     "metadata": {},
     "output_type": "execute_result"
    }
   ],
   "source": [
    "sp500_ticker_list = si.tickers_sp500()\n",
    "len(sp500_ticker_list)"
   ]
  },
  {
   "cell_type": "code",
   "execution_count": 13,
   "id": "knowing-singapore",
   "metadata": {},
   "outputs": [
    {
     "data": {
      "text/plain": [
       "['A', 'AAL']"
      ]
     },
     "execution_count": 13,
     "metadata": {},
     "output_type": "execute_result"
    }
   ],
   "source": [
    "sp500_ticker_list[0:2]"
   ]
  },
  {
   "cell_type": "code",
   "execution_count": 11,
   "id": "wound-orbit",
   "metadata": {},
   "outputs": [
    {
     "data": {
      "text/plain": [
       "6002"
      ]
     },
     "execution_count": 11,
     "metadata": {},
     "output_type": "execute_result"
    }
   ],
   "source": [
    "other_tickers = si.tickers_other()\n",
    "len(other_tickers)"
   ]
  },
  {
   "cell_type": "code",
   "execution_count": 14,
   "id": "classified-description",
   "metadata": {},
   "outputs": [
    {
     "data": {
      "text/plain": [
       "['A', 'AA']"
      ]
     },
     "execution_count": 14,
     "metadata": {},
     "output_type": "execute_result"
    }
   ],
   "source": [
    "other_tickers[0:2]"
   ]
  },
  {
   "cell_type": "markdown",
   "id": "through-usage",
   "metadata": {},
   "source": [
    "## Quotes & Prices"
   ]
  },
  {
   "cell_type": "code",
   "execution_count": 4,
   "id": "quantitative-durham",
   "metadata": {},
   "outputs": [
    {
     "data": {
      "text/plain": [
       "{'1y Target Est': 4218.76,\n",
       " '52 Week Range': '2,330.00 - 3,554.00',\n",
       " 'Ask': '0.00 x 1000',\n",
       " 'Avg. Volume': 3759096.0,\n",
       " 'Beta (5Y Monthly)': 1.15,\n",
       " 'Bid': '0.00 x 1300',\n",
       " \"Day's Range\": '3,230.37 - 3,312.00',\n",
       " 'EPS (TTM)': 52.56,\n",
       " 'Earnings Date': 'Jul 28, 2021 - Aug 02, 2021',\n",
       " 'Ex-Dividend Date': nan,\n",
       " 'Forward Dividend & Yield': 'N/A (N/A)',\n",
       " 'Market Cap': '1.63T',\n",
       " 'Open': 3292.57,\n",
       " 'PE Ratio (TTM)': 61.49,\n",
       " 'Previous Close': 3270.39,\n",
       " 'Quote Price': 3232.280029296875,\n",
       " 'Volume': 2828391.0}"
      ]
     },
     "execution_count": 4,
     "metadata": {},
     "output_type": "execute_result"
    }
   ],
   "source": [
    "info = si.get_quote_table(\"amzn\")\n",
    "info"
   ]
  },
  {
   "cell_type": "code",
   "execution_count": 15,
   "id": "constant-modem",
   "metadata": {},
   "outputs": [
    {
     "data": {
      "text/html": [
       "<div>\n",
       "<style scoped>\n",
       "    .dataframe tbody tr th:only-of-type {\n",
       "        vertical-align: middle;\n",
       "    }\n",
       "\n",
       "    .dataframe tbody tr th {\n",
       "        vertical-align: top;\n",
       "    }\n",
       "\n",
       "    .dataframe thead th {\n",
       "        text-align: right;\n",
       "    }\n",
       "</style>\n",
       "<table border=\"1\" class=\"dataframe\">\n",
       "  <thead>\n",
       "    <tr style=\"text-align: right;\">\n",
       "      <th></th>\n",
       "      <th>open</th>\n",
       "      <th>high</th>\n",
       "      <th>low</th>\n",
       "      <th>close</th>\n",
       "      <th>adjclose</th>\n",
       "      <th>volume</th>\n",
       "      <th>ticker</th>\n",
       "    </tr>\n",
       "  </thead>\n",
       "  <tbody>\n",
       "    <tr>\n",
       "      <th>1980-12-12</th>\n",
       "      <td>0.128348</td>\n",
       "      <td>0.128906</td>\n",
       "      <td>0.128348</td>\n",
       "      <td>0.128348</td>\n",
       "      <td>0.100751</td>\n",
       "      <td>469033600</td>\n",
       "      <td>AAPL</td>\n",
       "    </tr>\n",
       "    <tr>\n",
       "      <th>1980-12-15</th>\n",
       "      <td>0.122210</td>\n",
       "      <td>0.122210</td>\n",
       "      <td>0.121652</td>\n",
       "      <td>0.121652</td>\n",
       "      <td>0.095495</td>\n",
       "      <td>175884800</td>\n",
       "      <td>AAPL</td>\n",
       "    </tr>\n",
       "    <tr>\n",
       "      <th>1980-12-16</th>\n",
       "      <td>0.113281</td>\n",
       "      <td>0.113281</td>\n",
       "      <td>0.112723</td>\n",
       "      <td>0.112723</td>\n",
       "      <td>0.088485</td>\n",
       "      <td>105728000</td>\n",
       "      <td>AAPL</td>\n",
       "    </tr>\n",
       "    <tr>\n",
       "      <th>1980-12-17</th>\n",
       "      <td>0.115513</td>\n",
       "      <td>0.116071</td>\n",
       "      <td>0.115513</td>\n",
       "      <td>0.115513</td>\n",
       "      <td>0.090676</td>\n",
       "      <td>86441600</td>\n",
       "      <td>AAPL</td>\n",
       "    </tr>\n",
       "    <tr>\n",
       "      <th>1980-12-18</th>\n",
       "      <td>0.118862</td>\n",
       "      <td>0.119420</td>\n",
       "      <td>0.118862</td>\n",
       "      <td>0.118862</td>\n",
       "      <td>0.093304</td>\n",
       "      <td>73449600</td>\n",
       "      <td>AAPL</td>\n",
       "    </tr>\n",
       "  </tbody>\n",
       "</table>\n",
       "</div>"
      ],
      "text/plain": [
       "                open      high       low     close  adjclose     volume ticker\n",
       "1980-12-12  0.128348  0.128906  0.128348  0.128348  0.100751  469033600   AAPL\n",
       "1980-12-15  0.122210  0.122210  0.121652  0.121652  0.095495  175884800   AAPL\n",
       "1980-12-16  0.113281  0.113281  0.112723  0.112723  0.088485  105728000   AAPL\n",
       "1980-12-17  0.115513  0.116071  0.115513  0.115513  0.090676   86441600   AAPL\n",
       "1980-12-18  0.118862  0.119420  0.118862  0.118862  0.093304   73449600   AAPL"
      ]
     },
     "execution_count": 15,
     "metadata": {},
     "output_type": "execute_result"
    }
   ],
   "source": [
    "aapl = si.get_data(\"aapl\")\n",
    "aapl.head()"
   ]
  },
  {
   "cell_type": "code",
   "execution_count": 17,
   "id": "obvious-soundtrack",
   "metadata": {},
   "outputs": [
    {
     "data": {
      "text/plain": [
       "124.8499984741211"
      ]
     },
     "execution_count": 17,
     "metadata": {},
     "output_type": "execute_result"
    }
   ],
   "source": [
    "si.get_live_price('aapl')"
   ]
  },
  {
   "cell_type": "markdown",
   "id": "complimentary-customs",
   "metadata": {},
   "source": [
    "## How to get cryptocurrency prices"
   ]
  },
  {
   "cell_type": "code",
   "execution_count": 19,
   "id": "superior-biotechnology",
   "metadata": {},
   "outputs": [
    {
     "data": {
      "text/html": [
       "<div>\n",
       "<style scoped>\n",
       "    .dataframe tbody tr th:only-of-type {\n",
       "        vertical-align: middle;\n",
       "    }\n",
       "\n",
       "    .dataframe tbody tr th {\n",
       "        vertical-align: top;\n",
       "    }\n",
       "\n",
       "    .dataframe thead th {\n",
       "        text-align: right;\n",
       "    }\n",
       "</style>\n",
       "<table border=\"1\" class=\"dataframe\">\n",
       "  <thead>\n",
       "    <tr style=\"text-align: right;\">\n",
       "      <th></th>\n",
       "      <th>Symbol</th>\n",
       "      <th>Name</th>\n",
       "      <th>Price (Intraday)</th>\n",
       "      <th>Change</th>\n",
       "      <th>% Change</th>\n",
       "      <th>Market Cap</th>\n",
       "      <th>Volume in Currency (Since 0:00 UTC)</th>\n",
       "      <th>Volume in Currency (24Hr)</th>\n",
       "      <th>Total Volume All Currencies (24Hr)</th>\n",
       "      <th>Circulating Supply</th>\n",
       "    </tr>\n",
       "  </thead>\n",
       "  <tbody>\n",
       "    <tr>\n",
       "      <th>0</th>\n",
       "      <td>BTC-USD</td>\n",
       "      <td>Bitcoin USD</td>\n",
       "      <td>39746.700000</td>\n",
       "      <td>-5611.390000</td>\n",
       "      <td>-12.37</td>\n",
       "      <td>7.437970e+11</td>\n",
       "      <td>6.435300e+10</td>\n",
       "      <td>6.435300e+10</td>\n",
       "      <td>6.435300e+10</td>\n",
       "      <td>1.871300e+07</td>\n",
       "    </tr>\n",
       "    <tr>\n",
       "      <th>1</th>\n",
       "      <td>ETH-USD</td>\n",
       "      <td>Ethereum USD</td>\n",
       "      <td>3018.130000</td>\n",
       "      <td>-516.970000</td>\n",
       "      <td>-14.62</td>\n",
       "      <td>3.499010e+11</td>\n",
       "      <td>4.505200e+10</td>\n",
       "      <td>4.505200e+10</td>\n",
       "      <td>4.505200e+10</td>\n",
       "      <td>1.159330e+08</td>\n",
       "    </tr>\n",
       "    <tr>\n",
       "      <th>2</th>\n",
       "      <td>BNB-USD</td>\n",
       "      <td>BinanceCoin USD</td>\n",
       "      <td>431.110000</td>\n",
       "      <td>-99.430000</td>\n",
       "      <td>-18.74</td>\n",
       "      <td>6.614700e+10</td>\n",
       "      <td>4.601000e+09</td>\n",
       "      <td>4.601000e+09</td>\n",
       "      <td>4.601000e+09</td>\n",
       "      <td>1.534330e+08</td>\n",
       "    </tr>\n",
       "    <tr>\n",
       "      <th>3</th>\n",
       "      <td>USDT-USD</td>\n",
       "      <td>Tether USD</td>\n",
       "      <td>1.000384</td>\n",
       "      <td>0.000421</td>\n",
       "      <td>0.04</td>\n",
       "      <td>5.836300e+10</td>\n",
       "      <td>1.593170e+11</td>\n",
       "      <td>1.593170e+11</td>\n",
       "      <td>1.593170e+11</td>\n",
       "      <td>5.834000e+10</td>\n",
       "    </tr>\n",
       "    <tr>\n",
       "      <th>4</th>\n",
       "      <td>ADA-USD</td>\n",
       "      <td>Cardano USD</td>\n",
       "      <td>1.756546</td>\n",
       "      <td>-0.357696</td>\n",
       "      <td>-16.92</td>\n",
       "      <td>5.611900e+10</td>\n",
       "      <td>8.416000e+09</td>\n",
       "      <td>8.416000e+09</td>\n",
       "      <td>8.416000e+09</td>\n",
       "      <td>3.194800e+10</td>\n",
       "    </tr>\n",
       "  </tbody>\n",
       "</table>\n",
       "</div>"
      ],
      "text/plain": [
       "     Symbol             Name  Price (Intraday)       Change  % Change  \\\n",
       "0   BTC-USD      Bitcoin USD      39746.700000 -5611.390000    -12.37   \n",
       "1   ETH-USD     Ethereum USD       3018.130000  -516.970000    -14.62   \n",
       "2   BNB-USD  BinanceCoin USD        431.110000   -99.430000    -18.74   \n",
       "3  USDT-USD       Tether USD          1.000384     0.000421      0.04   \n",
       "4   ADA-USD      Cardano USD          1.756546    -0.357696    -16.92   \n",
       "\n",
       "     Market Cap  Volume in Currency (Since 0:00 UTC)  \\\n",
       "0  7.437970e+11                         6.435300e+10   \n",
       "1  3.499010e+11                         4.505200e+10   \n",
       "2  6.614700e+10                         4.601000e+09   \n",
       "3  5.836300e+10                         1.593170e+11   \n",
       "4  5.611900e+10                         8.416000e+09   \n",
       "\n",
       "   Volume in Currency (24Hr)  Total Volume All Currencies (24Hr)  \\\n",
       "0               6.435300e+10                        6.435300e+10   \n",
       "1               4.505200e+10                        4.505200e+10   \n",
       "2               4.601000e+09                        4.601000e+09   \n",
       "3               1.593170e+11                        1.593170e+11   \n",
       "4               8.416000e+09                        8.416000e+09   \n",
       "\n",
       "   Circulating Supply  \n",
       "0        1.871300e+07  \n",
       "1        1.159330e+08  \n",
       "2        1.534330e+08  \n",
       "3        5.834000e+10  \n",
       "4        3.194800e+10  "
      ]
     },
     "execution_count": 19,
     "metadata": {},
     "output_type": "execute_result"
    }
   ],
   "source": [
    "si.get_top_crypto().head()"
   ]
  },
  {
   "cell_type": "markdown",
   "id": "guided-bridge",
   "metadata": {},
   "source": [
    "## How to get most active, biggest gainers / losers"
   ]
  },
  {
   "cell_type": "code",
   "execution_count": 21,
   "id": "economic-evanescence",
   "metadata": {},
   "outputs": [
    {
     "data": {
      "text/html": [
       "<div>\n",
       "<style scoped>\n",
       "    .dataframe tbody tr th:only-of-type {\n",
       "        vertical-align: middle;\n",
       "    }\n",
       "\n",
       "    .dataframe tbody tr th {\n",
       "        vertical-align: top;\n",
       "    }\n",
       "\n",
       "    .dataframe thead th {\n",
       "        text-align: right;\n",
       "    }\n",
       "</style>\n",
       "<table border=\"1\" class=\"dataframe\">\n",
       "  <thead>\n",
       "    <tr style=\"text-align: right;\">\n",
       "      <th></th>\n",
       "      <th>Symbol</th>\n",
       "      <th>Name</th>\n",
       "      <th>Price (Intraday)</th>\n",
       "      <th>Change</th>\n",
       "      <th>% Change</th>\n",
       "      <th>Volume</th>\n",
       "      <th>Avg Vol (3 month)</th>\n",
       "      <th>Market Cap</th>\n",
       "      <th>PE Ratio (TTM)</th>\n",
       "    </tr>\n",
       "  </thead>\n",
       "  <tbody>\n",
       "    <tr>\n",
       "      <th>0</th>\n",
       "      <td>T</td>\n",
       "      <td>AT&amp;T Inc.</td>\n",
       "      <td>29.55</td>\n",
       "      <td>-1.82</td>\n",
       "      <td>-5.80</td>\n",
       "      <td>246869000.0</td>\n",
       "      <td>43116000.0</td>\n",
       "      <td>210987000000.0</td>\n",
       "      <td>NaN</td>\n",
       "    </tr>\n",
       "    <tr>\n",
       "      <th>1</th>\n",
       "      <td>AMC</td>\n",
       "      <td>AMC Entertainment Holdings, Inc.</td>\n",
       "      <td>14.03</td>\n",
       "      <td>0.08</td>\n",
       "      <td>0.57</td>\n",
       "      <td>172488000.0</td>\n",
       "      <td>95166000.0</td>\n",
       "      <td>6317000000.0</td>\n",
       "      <td>NaN</td>\n",
       "    </tr>\n",
       "    <tr>\n",
       "      <th>2</th>\n",
       "      <td>F</td>\n",
       "      <td>Ford Motor Company</td>\n",
       "      <td>12.14</td>\n",
       "      <td>-0.01</td>\n",
       "      <td>-0.08</td>\n",
       "      <td>71044000.0</td>\n",
       "      <td>65962000.0</td>\n",
       "      <td>48459000000.0</td>\n",
       "      <td>12.21</td>\n",
       "    </tr>\n",
       "    <tr>\n",
       "      <th>3</th>\n",
       "      <td>NIO</td>\n",
       "      <td>NIO Inc.</td>\n",
       "      <td>34.19</td>\n",
       "      <td>0.38</td>\n",
       "      <td>1.12</td>\n",
       "      <td>63692000.0</td>\n",
       "      <td>97112000.0</td>\n",
       "      <td>56021000000.0</td>\n",
       "      <td>NaN</td>\n",
       "    </tr>\n",
       "    <tr>\n",
       "      <th>4</th>\n",
       "      <td>AAPL</td>\n",
       "      <td>Apple Inc.</td>\n",
       "      <td>124.85</td>\n",
       "      <td>-1.42</td>\n",
       "      <td>-1.12</td>\n",
       "      <td>63343000.0</td>\n",
       "      <td>104193000.0</td>\n",
       "      <td>2.083T</td>\n",
       "      <td>28.06</td>\n",
       "    </tr>\n",
       "  </tbody>\n",
       "</table>\n",
       "</div>"
      ],
      "text/plain": [
       "  Symbol                              Name  Price (Intraday)  Change  \\\n",
       "0      T                         AT&T Inc.             29.55   -1.82   \n",
       "1    AMC  AMC Entertainment Holdings, Inc.             14.03    0.08   \n",
       "2      F                Ford Motor Company             12.14   -0.01   \n",
       "3    NIO                          NIO Inc.             34.19    0.38   \n",
       "4   AAPL                        Apple Inc.            124.85   -1.42   \n",
       "\n",
       "   % Change       Volume  Avg Vol (3 month)      Market Cap  PE Ratio (TTM)  \n",
       "0     -5.80  246869000.0         43116000.0  210987000000.0             NaN  \n",
       "1      0.57  172488000.0         95166000.0    6317000000.0             NaN  \n",
       "2     -0.08   71044000.0         65962000.0   48459000000.0           12.21  \n",
       "3      1.12   63692000.0         97112000.0   56021000000.0             NaN  \n",
       "4     -1.12   63343000.0        104193000.0          2.083T           28.06  "
      ]
     },
     "execution_count": 21,
     "metadata": {},
     "output_type": "execute_result"
    }
   ],
   "source": [
    "# get most active stocks on the day\n",
    "si.get_day_most_active().head()"
   ]
  },
  {
   "cell_type": "code",
   "execution_count": 22,
   "id": "palestinian-sapphire",
   "metadata": {},
   "outputs": [
    {
     "data": {
      "text/html": [
       "<div>\n",
       "<style scoped>\n",
       "    .dataframe tbody tr th:only-of-type {\n",
       "        vertical-align: middle;\n",
       "    }\n",
       "\n",
       "    .dataframe tbody tr th {\n",
       "        vertical-align: top;\n",
       "    }\n",
       "\n",
       "    .dataframe thead th {\n",
       "        text-align: right;\n",
       "    }\n",
       "</style>\n",
       "<table border=\"1\" class=\"dataframe\">\n",
       "  <thead>\n",
       "    <tr style=\"text-align: right;\">\n",
       "      <th></th>\n",
       "      <th>Symbol</th>\n",
       "      <th>Name</th>\n",
       "      <th>Price (Intraday)</th>\n",
       "      <th>Change</th>\n",
       "      <th>% Change</th>\n",
       "      <th>Volume</th>\n",
       "      <th>Avg Vol (3 month)</th>\n",
       "      <th>Market Cap</th>\n",
       "      <th>PE Ratio (TTM)</th>\n",
       "    </tr>\n",
       "  </thead>\n",
       "  <tbody>\n",
       "    <tr>\n",
       "      <th>0</th>\n",
       "      <td>GCPEF</td>\n",
       "      <td>GCL-Poly Energy Holdings Limited</td>\n",
       "      <td>0.223</td>\n",
       "      <td>0.058</td>\n",
       "      <td>35.15</td>\n",
       "      <td>379328.0</td>\n",
       "      <td>359201.0</td>\n",
       "      <td>8.629000e+09</td>\n",
       "      <td>NaN</td>\n",
       "    </tr>\n",
       "    <tr>\n",
       "      <th>1</th>\n",
       "      <td>LEGN</td>\n",
       "      <td>Legend Biotech Corporation</td>\n",
       "      <td>35.300</td>\n",
       "      <td>4.400</td>\n",
       "      <td>14.24</td>\n",
       "      <td>2492000.0</td>\n",
       "      <td>378793.0</td>\n",
       "      <td>4.778000e+09</td>\n",
       "      <td>NaN</td>\n",
       "    </tr>\n",
       "    <tr>\n",
       "      <th>2</th>\n",
       "      <td>CRC</td>\n",
       "      <td>California Resources Corporation</td>\n",
       "      <td>28.700</td>\n",
       "      <td>3.510</td>\n",
       "      <td>13.93</td>\n",
       "      <td>1771000.0</td>\n",
       "      <td>345778.0</td>\n",
       "      <td>2.391000e+09</td>\n",
       "      <td>0.84</td>\n",
       "    </tr>\n",
       "    <tr>\n",
       "      <th>3</th>\n",
       "      <td>TUYA</td>\n",
       "      <td>Tuya Inc.</td>\n",
       "      <td>21.500</td>\n",
       "      <td>2.540</td>\n",
       "      <td>13.40</td>\n",
       "      <td>1069000.0</td>\n",
       "      <td>1559000.0</td>\n",
       "      <td>1.203500e+10</td>\n",
       "      <td>NaN</td>\n",
       "    </tr>\n",
       "    <tr>\n",
       "      <th>4</th>\n",
       "      <td>AUOTY</td>\n",
       "      <td>AU Optronics Corp.</td>\n",
       "      <td>8.350</td>\n",
       "      <td>0.970</td>\n",
       "      <td>13.14</td>\n",
       "      <td>421737.0</td>\n",
       "      <td>346414.0</td>\n",
       "      <td>7.689000e+09</td>\n",
       "      <td>NaN</td>\n",
       "    </tr>\n",
       "  </tbody>\n",
       "</table>\n",
       "</div>"
      ],
      "text/plain": [
       "  Symbol                              Name  Price (Intraday)  Change  \\\n",
       "0  GCPEF  GCL-Poly Energy Holdings Limited             0.223   0.058   \n",
       "1   LEGN        Legend Biotech Corporation            35.300   4.400   \n",
       "2    CRC  California Resources Corporation            28.700   3.510   \n",
       "3   TUYA                         Tuya Inc.            21.500   2.540   \n",
       "4  AUOTY                AU Optronics Corp.             8.350   0.970   \n",
       "\n",
       "   % Change     Volume  Avg Vol (3 month)    Market Cap  PE Ratio (TTM)  \n",
       "0     35.15   379328.0           359201.0  8.629000e+09             NaN  \n",
       "1     14.24  2492000.0           378793.0  4.778000e+09             NaN  \n",
       "2     13.93  1771000.0           345778.0  2.391000e+09            0.84  \n",
       "3     13.40  1069000.0          1559000.0  1.203500e+10             NaN  \n",
       "4     13.14   421737.0           346414.0  7.689000e+09             NaN  "
      ]
     },
     "execution_count": 22,
     "metadata": {},
     "output_type": "execute_result"
    }
   ],
   "source": [
    "# get biggest gainers\n",
    "si.get_day_gainers().head()"
   ]
  },
  {
   "cell_type": "code",
   "execution_count": 23,
   "id": "concrete-validation",
   "metadata": {},
   "outputs": [
    {
     "data": {
      "text/html": [
       "<div>\n",
       "<style scoped>\n",
       "    .dataframe tbody tr th:only-of-type {\n",
       "        vertical-align: middle;\n",
       "    }\n",
       "\n",
       "    .dataframe tbody tr th {\n",
       "        vertical-align: top;\n",
       "    }\n",
       "\n",
       "    .dataframe thead th {\n",
       "        text-align: right;\n",
       "    }\n",
       "</style>\n",
       "<table border=\"1\" class=\"dataframe\">\n",
       "  <thead>\n",
       "    <tr style=\"text-align: right;\">\n",
       "      <th></th>\n",
       "      <th>Symbol</th>\n",
       "      <th>Name</th>\n",
       "      <th>Price (Intraday)</th>\n",
       "      <th>Change</th>\n",
       "      <th>% Change</th>\n",
       "      <th>Volume</th>\n",
       "      <th>Avg Vol (3 month)</th>\n",
       "      <th>Market Cap</th>\n",
       "      <th>PE Ratio (TTM)</th>\n",
       "    </tr>\n",
       "  </thead>\n",
       "  <tbody>\n",
       "    <tr>\n",
       "      <th>0</th>\n",
       "      <td>TLS</td>\n",
       "      <td>Telos Corporation</td>\n",
       "      <td>29.660</td>\n",
       "      <td>-4.980</td>\n",
       "      <td>-14.38</td>\n",
       "      <td>2932000.0</td>\n",
       "      <td>722516.0</td>\n",
       "      <td>1.979000e+09</td>\n",
       "      <td>NaN</td>\n",
       "    </tr>\n",
       "    <tr>\n",
       "      <th>1</th>\n",
       "      <td>SNCY</td>\n",
       "      <td>Sun Country Airlines Holdings, Inc.</td>\n",
       "      <td>35.100</td>\n",
       "      <td>-4.640</td>\n",
       "      <td>-11.68</td>\n",
       "      <td>542821.0</td>\n",
       "      <td>404983.0</td>\n",
       "      <td>2.006000e+09</td>\n",
       "      <td>NaN</td>\n",
       "    </tr>\n",
       "    <tr>\n",
       "      <th>2</th>\n",
       "      <td>SAML</td>\n",
       "      <td>Samsara Luggage, Inc.</td>\n",
       "      <td>1.580</td>\n",
       "      <td>-0.170</td>\n",
       "      <td>-9.71</td>\n",
       "      <td>21871.0</td>\n",
       "      <td>15686.0</td>\n",
       "      <td>1.354000e+06</td>\n",
       "      <td>NaN</td>\n",
       "    </tr>\n",
       "    <tr>\n",
       "      <th>3</th>\n",
       "      <td>VOD</td>\n",
       "      <td>Vodafone Group Plc</td>\n",
       "      <td>18.370</td>\n",
       "      <td>-1.870</td>\n",
       "      <td>-9.24</td>\n",
       "      <td>11651000.0</td>\n",
       "      <td>3271000.0</td>\n",
       "      <td>5.081100e+10</td>\n",
       "      <td>17.66</td>\n",
       "    </tr>\n",
       "    <tr>\n",
       "      <th>4</th>\n",
       "      <td>NWAU</td>\n",
       "      <td>Consumer Automotive Finance, Inc.</td>\n",
       "      <td>0.045</td>\n",
       "      <td>-0.004</td>\n",
       "      <td>-8.16</td>\n",
       "      <td>100777.0</td>\n",
       "      <td>422555.0</td>\n",
       "      <td>7.876300e+10</td>\n",
       "      <td>NaN</td>\n",
       "    </tr>\n",
       "  </tbody>\n",
       "</table>\n",
       "</div>"
      ],
      "text/plain": [
       "  Symbol                                 Name  Price (Intraday)  Change  \\\n",
       "0    TLS                    Telos Corporation            29.660  -4.980   \n",
       "1   SNCY  Sun Country Airlines Holdings, Inc.            35.100  -4.640   \n",
       "2   SAML                Samsara Luggage, Inc.             1.580  -0.170   \n",
       "3    VOD                   Vodafone Group Plc            18.370  -1.870   \n",
       "4   NWAU    Consumer Automotive Finance, Inc.             0.045  -0.004   \n",
       "\n",
       "   % Change      Volume  Avg Vol (3 month)    Market Cap  PE Ratio (TTM)  \n",
       "0    -14.38   2932000.0           722516.0  1.979000e+09             NaN  \n",
       "1    -11.68    542821.0           404983.0  2.006000e+09             NaN  \n",
       "2     -9.71     21871.0            15686.0  1.354000e+06             NaN  \n",
       "3     -9.24  11651000.0          3271000.0  5.081100e+10           17.66  \n",
       "4     -8.16    100777.0           422555.0  7.876300e+10             NaN  "
      ]
     },
     "execution_count": 23,
     "metadata": {},
     "output_type": "execute_result"
    }
   ],
   "source": [
    "# get worst performers\n",
    "si.get_day_losers().head()"
   ]
  },
  {
   "cell_type": "code",
   "execution_count": null,
   "id": "concrete-revelation",
   "metadata": {},
   "outputs": [],
   "source": []
  },
  {
   "cell_type": "code",
   "execution_count": null,
   "id": "compatible-scheduling",
   "metadata": {},
   "outputs": [],
   "source": []
  },
  {
   "cell_type": "code",
   "execution_count": null,
   "id": "advance-genesis",
   "metadata": {},
   "outputs": [],
   "source": []
  },
  {
   "cell_type": "code",
   "execution_count": null,
   "id": "robust-world",
   "metadata": {},
   "outputs": [],
   "source": []
  }
 ],
 "metadata": {
  "kernelspec": {
   "display_name": "Python 3",
   "language": "python",
   "name": "python3"
  },
  "language_info": {
   "codemirror_mode": {
    "name": "ipython",
    "version": 3
   },
   "file_extension": ".py",
   "mimetype": "text/x-python",
   "name": "python",
   "nbconvert_exporter": "python",
   "pygments_lexer": "ipython3",
   "version": "3.8.5"
  }
 },
 "nbformat": 4,
 "nbformat_minor": 5
}
