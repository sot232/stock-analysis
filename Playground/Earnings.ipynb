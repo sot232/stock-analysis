{
 "cells": [
  {
   "cell_type": "markdown",
   "id": "experimental-pilot",
   "metadata": {},
   "source": [
    "# Earnings\n",
    "\n",
    "## Object:\n",
    "- Know how to look up earnings"
   ]
  },
  {
   "cell_type": "code",
   "execution_count": 1,
   "id": "effective-radar",
   "metadata": {},
   "outputs": [],
   "source": [
    "import pandas as pd\n",
    "\n",
    "import yahoo_fin.stock_info as si"
   ]
  },
  {
   "cell_type": "code",
   "execution_count": 2,
   "id": "floral-eleven",
   "metadata": {},
   "outputs": [
    {
     "data": {
      "text/html": [
       "<div>\n",
       "<style scoped>\n",
       "    .dataframe tbody tr th:only-of-type {\n",
       "        vertical-align: middle;\n",
       "    }\n",
       "\n",
       "    .dataframe tbody tr th {\n",
       "        vertical-align: top;\n",
       "    }\n",
       "\n",
       "    .dataframe thead th {\n",
       "        text-align: right;\n",
       "    }\n",
       "</style>\n",
       "<table border=\"1\" class=\"dataframe\">\n",
       "  <thead>\n",
       "    <tr style=\"text-align: right;\">\n",
       "      <th></th>\n",
       "      <th>ticker</th>\n",
       "      <th>companyshortname</th>\n",
       "      <th>startdatetime</th>\n",
       "      <th>startdatetimetype</th>\n",
       "      <th>epsestimate</th>\n",
       "      <th>epsactual</th>\n",
       "      <th>epssurprisepct</th>\n",
       "      <th>timeZoneShortName</th>\n",
       "      <th>gmtOffsetMilliSeconds</th>\n",
       "      <th>quoteType</th>\n",
       "    </tr>\n",
       "  </thead>\n",
       "  <tbody>\n",
       "    <tr>\n",
       "      <th>0</th>\n",
       "      <td>AAPL</td>\n",
       "      <td>Apple Inc</td>\n",
       "      <td>2022-04-26T10:59:00.000Z</td>\n",
       "      <td>TNS</td>\n",
       "      <td>NaN</td>\n",
       "      <td>NaN</td>\n",
       "      <td>NaN</td>\n",
       "      <td>EDT</td>\n",
       "      <td>-14400000</td>\n",
       "      <td>EQUITY</td>\n",
       "    </tr>\n",
       "    <tr>\n",
       "      <th>1</th>\n",
       "      <td>AAPL</td>\n",
       "      <td>Apple Inc</td>\n",
       "      <td>2022-01-25T10:59:00.000Z</td>\n",
       "      <td>TNS</td>\n",
       "      <td>NaN</td>\n",
       "      <td>NaN</td>\n",
       "      <td>NaN</td>\n",
       "      <td>EDT</td>\n",
       "      <td>-14400000</td>\n",
       "      <td>EQUITY</td>\n",
       "    </tr>\n",
       "    <tr>\n",
       "      <th>2</th>\n",
       "      <td>AAPL</td>\n",
       "      <td>Apple Inc</td>\n",
       "      <td>2021-10-27T10:59:00.000Z</td>\n",
       "      <td>TNS</td>\n",
       "      <td>NaN</td>\n",
       "      <td>NaN</td>\n",
       "      <td>NaN</td>\n",
       "      <td>EDT</td>\n",
       "      <td>-14400000</td>\n",
       "      <td>EQUITY</td>\n",
       "    </tr>\n",
       "    <tr>\n",
       "      <th>3</th>\n",
       "      <td>AAPL</td>\n",
       "      <td>Apple Inc</td>\n",
       "      <td>2021-07-28T10:59:00.000Z</td>\n",
       "      <td>TNS</td>\n",
       "      <td>0.99</td>\n",
       "      <td>NaN</td>\n",
       "      <td>NaN</td>\n",
       "      <td>EDT</td>\n",
       "      <td>-14400000</td>\n",
       "      <td>EQUITY</td>\n",
       "    </tr>\n",
       "    <tr>\n",
       "      <th>4</th>\n",
       "      <td>AAPL</td>\n",
       "      <td>Apple Inc.</td>\n",
       "      <td>2021-04-28T00:00:00.000Z</td>\n",
       "      <td>TNS</td>\n",
       "      <td>0.99</td>\n",
       "      <td>1.4</td>\n",
       "      <td>41.84</td>\n",
       "      <td>EDT</td>\n",
       "      <td>0</td>\n",
       "      <td>EQUITY</td>\n",
       "    </tr>\n",
       "  </tbody>\n",
       "</table>\n",
       "</div>"
      ],
      "text/plain": [
       "  ticker companyshortname             startdatetime startdatetimetype  \\\n",
       "0   AAPL        Apple Inc  2022-04-26T10:59:00.000Z               TNS   \n",
       "1   AAPL        Apple Inc  2022-01-25T10:59:00.000Z               TNS   \n",
       "2   AAPL        Apple Inc  2021-10-27T10:59:00.000Z               TNS   \n",
       "3   AAPL        Apple Inc  2021-07-28T10:59:00.000Z               TNS   \n",
       "4   AAPL       Apple Inc.  2021-04-28T00:00:00.000Z               TNS   \n",
       "\n",
       "   epsestimate  epsactual  epssurprisepct timeZoneShortName  \\\n",
       "0          NaN        NaN             NaN               EDT   \n",
       "1          NaN        NaN             NaN               EDT   \n",
       "2          NaN        NaN             NaN               EDT   \n",
       "3         0.99        NaN             NaN               EDT   \n",
       "4         0.99        1.4           41.84               EDT   \n",
       "\n",
       "   gmtOffsetMilliSeconds quoteType  \n",
       "0              -14400000    EQUITY  \n",
       "1              -14400000    EQUITY  \n",
       "2              -14400000    EQUITY  \n",
       "3              -14400000    EQUITY  \n",
       "4                      0    EQUITY  "
      ]
     },
     "execution_count": 2,
     "metadata": {},
     "output_type": "execute_result"
    }
   ],
   "source": [
    "# get earnings history for AAPL\n",
    "aapl_earnings_hist = si.get_earnings_history(\"aapl\")\n",
    "aapl_earnings_hist = pd.DataFrame.from_dict(aapl_earnings_hist)\n",
    "aapl_earnings_hist.head()"
   ]
  },
  {
   "cell_type": "code",
   "execution_count": 3,
   "id": "municipal-dallas",
   "metadata": {},
   "outputs": [
    {
     "data": {
      "text/plain": [
       "datetime.datetime(2021, 7, 27, 17, 0)"
      ]
     },
     "execution_count": 3,
     "metadata": {},
     "output_type": "execute_result"
    }
   ],
   "source": [
    "# find the next upcoming earnings date for an input stock ticker\n",
    "si.get_next_earnings_date(\"aapl\")"
   ]
  },
  {
   "cell_type": "code",
   "execution_count": 4,
   "id": "flying-colorado",
   "metadata": {},
   "outputs": [
    {
     "data": {
      "text/plain": [
       "{'quarterly_results':      date  actual  estimate\n",
       " 0  2Q2020    0.64      0.51\n",
       " 1  3Q2020    0.73      0.70\n",
       " 2  4Q2020    1.68      1.41\n",
       " 3  1Q2021    1.40      0.99,\n",
       " 'yearly_revenue_earnings':    date       revenue     earnings\n",
       " 0  2017  229234000000  48351000000\n",
       " 1  2018  265595000000  59531000000\n",
       " 2  2019  260174000000  55256000000\n",
       " 3  2020  274515000000  57411000000,\n",
       " 'quarterly_revenue_earnings':      date       revenue     earnings\n",
       " 0  2Q2020   59685000000  11253000000\n",
       " 1  3Q2020   64698000000  12673000000\n",
       " 2  4Q2020  111439000000  28755000000\n",
       " 3  1Q2021   89584000000  23630000000}"
      ]
     },
     "execution_count": 4,
     "metadata": {},
     "output_type": "execute_result"
    }
   ],
   "source": [
    "# get recent revenue data\n",
    "si.get_earnings(\"aapl\")"
   ]
  },
  {
   "cell_type": "code",
   "execution_count": null,
   "id": "narrative-husband",
   "metadata": {},
   "outputs": [],
   "source": []
  }
 ],
 "metadata": {
  "kernelspec": {
   "display_name": "Python 3",
   "language": "python",
   "name": "python3"
  },
  "language_info": {
   "codemirror_mode": {
    "name": "ipython",
    "version": 3
   },
   "file_extension": ".py",
   "mimetype": "text/x-python",
   "name": "python",
   "nbconvert_exporter": "python",
   "pygments_lexer": "ipython3",
   "version": "3.8.5"
  }
 },
 "nbformat": 4,
 "nbformat_minor": 5
}
