{
 "cells": [
  {
   "cell_type": "markdown",
   "id": "purple-record",
   "metadata": {},
   "source": [
    "# Return On Equity (ROE)\n",
    "- Measure of financial performance. In other words, a measure of a corporation's profitability in relation to stockholders' equity.\n",
    "- Whether ROE is deemed good or bad will depend on what is normal among a stock’s peers\n",
    "\n",
    "Resources:\n",
    "- Definition: https://www.investopedia.com/terms/r/returnonequity.asp\n",
    "- List of peers: https://advisortools.zacks.com/Research/Stocks/NFLX/Peers"
   ]
  },
  {
   "cell_type": "code",
   "execution_count": 19,
   "id": "right-trick",
   "metadata": {},
   "outputs": [],
   "source": [
    "from yahoo_fin import stock_info as si\n",
    "\n",
    "import numpy as np"
   ]
  },
  {
   "cell_type": "code",
   "execution_count": 2,
   "id": "objective-difficulty",
   "metadata": {},
   "outputs": [],
   "source": [
    "df = si.get_stats('nflx')"
   ]
  },
  {
   "cell_type": "code",
   "execution_count": 4,
   "id": "distinguished-rebel",
   "metadata": {},
   "outputs": [
    {
     "data": {
      "text/plain": [
       "34    35.31%\n",
       "Name: Value, dtype: object"
      ]
     },
     "execution_count": 4,
     "metadata": {},
     "output_type": "execute_result"
    }
   ],
   "source": [
    "df.loc[df['Attribute'] == 'Return on Equity (ttm)']['Value']"
   ]
  },
  {
   "cell_type": "markdown",
   "id": "ecological-discount",
   "metadata": {},
   "source": [
    "As a shortcut, investors can consider an ROE near the long-term average of the S&P 500 (14%) as an acceptable ratio and anything less than 10% as poor."
   ]
  },
  {
   "cell_type": "markdown",
   "id": "higher-enzyme",
   "metadata": {},
   "source": [
    "## Comparision with peers\n",
    "Netflix's peers are Discovery (DISCA), Twenty-first centory fox (FOX), Liberty global (LBTYK), and Sirius xm holdings (SIRI)."
   ]
  },
  {
   "cell_type": "code",
   "execution_count": 22,
   "id": "elect-warren",
   "metadata": {},
   "outputs": [
    {
     "data": {
      "text/plain": [
       "['9.50%', '19.11%', '-7.91%', nan]"
      ]
     },
     "execution_count": 22,
     "metadata": {},
     "output_type": "execute_result"
    }
   ],
   "source": [
    "peers = [\n",
    "    'DISCA', 'FOX', 'LBTYK', 'SIRI'\n",
    "]\n",
    "\n",
    "def get_peer_roe(peer):\n",
    "    '''\n",
    "    Parameters:\n",
    "        peer (Str):\n",
    "    '''\n",
    "    df = si.get_stats(peer)\n",
    "    roe_series = df.loc[df['Attribute'] == 'Return on Equity (ttm)']['Value']\n",
    "    if len(roe_series.index) > 0:\n",
    "        roe = roe_series.iloc[0]\n",
    "    else:\n",
    "        row = np.NaN\n",
    "    \n",
    "    return roe\n",
    "\n",
    "peer_df = [get_peer_roe(peer) for peer in peers]\n",
    "peer_df"
   ]
  },
  {
   "cell_type": "markdown",
   "id": "complete-radar",
   "metadata": {},
   "source": [
    "### Conclusion:\n",
    "Since Netflix shows a significantly higher ROE than its peers, we can say that Netflix has a good ROE."
   ]
  }
 ],
 "metadata": {
  "kernelspec": {
   "display_name": "Python 3",
   "language": "python",
   "name": "python3"
  },
  "language_info": {
   "codemirror_mode": {
    "name": "ipython",
    "version": 3
   },
   "file_extension": ".py",
   "mimetype": "text/x-python",
   "name": "python",
   "nbconvert_exporter": "python",
   "pygments_lexer": "ipython3",
   "version": "3.8.5"
  }
 },
 "nbformat": 4,
 "nbformat_minor": 5
}
