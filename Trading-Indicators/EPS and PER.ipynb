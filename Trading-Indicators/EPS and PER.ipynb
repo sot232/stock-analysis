{
 "cells": [
  {
   "cell_type": "markdown",
   "id": "prime-raise",
   "metadata": {},
   "source": [
    "# EPS and PER\n",
    "\n",
    "## Object:\n",
    "We want to tell if some stocks are undervalued.\n",
    "\n",
    "If Expected EPS * PER > live stock price, the stock is likely undervalued.\n",
    "\n",
    "## What to use:\n",
    "- EPS. Earning Per Share.\n",
    "- PER. (P/E). Price to Earning Ratio.\n",
    "- Expected EPS * PER."
   ]
  },
  {
   "cell_type": "code",
   "execution_count": 1,
   "id": "dedicated-immigration",
   "metadata": {},
   "outputs": [],
   "source": [
    "import pandas as pd\n",
    "\n",
    "import yahoo_fin.stock_info as si"
   ]
  },
  {
   "cell_type": "markdown",
   "id": "strong-things",
   "metadata": {},
   "source": [
    "## EPS"
   ]
  },
  {
   "cell_type": "code",
   "execution_count": 20,
   "id": "adult-advocacy",
   "metadata": {},
   "outputs": [
    {
     "data": {
      "text/plain": [
       "{'1y Target Est': 159.6,\n",
       " '52 Week Range': '79.12 - 145.09',\n",
       " 'Ask': '0.00 x 900',\n",
       " 'Avg. Volume': 98157896.0,\n",
       " 'Beta (5Y Monthly)': 1.2,\n",
       " 'Bid': '0.00 x 3200',\n",
       " \"Day's Range\": '125.28 - 127.64',\n",
       " 'EPS (TTM)': 4.45,\n",
       " 'Earnings Date': 'Jul 28, 2021 - Aug 02, 2021',\n",
       " 'Ex-Dividend Date': 'May 07, 2021',\n",
       " 'Forward Dividend & Yield': '0.88 (0.69%)',\n",
       " 'Market Cap': '2.091T',\n",
       " 'Open': 126.44,\n",
       " 'PE Ratio (TTM)': 28.16,\n",
       " 'Previous Close': 126.85,\n",
       " 'Quote Price': 125.27999877929688,\n",
       " 'Volume': 94625601.0}"
      ]
     },
     "execution_count": 20,
     "metadata": {},
     "output_type": "execute_result"
    }
   ],
   "source": [
    "quote_table = si.get_quote_table(\"aapl\", dict_result=True)\n",
    "quote_table"
   ]
  },
  {
   "cell_type": "code",
   "execution_count": 24,
   "id": "coral-oxford",
   "metadata": {},
   "outputs": [
    {
     "data": {
      "text/plain": [
       "4.45"
      ]
     },
     "execution_count": 24,
     "metadata": {},
     "output_type": "execute_result"
    }
   ],
   "source": [
    "eps = quote_table['EPS (TTM)']\n",
    "eps"
   ]
  },
  {
   "cell_type": "markdown",
   "id": "sixth-photograph",
   "metadata": {},
   "source": [
    "## PER"
   ]
  },
  {
   "cell_type": "code",
   "execution_count": 25,
   "id": "several-michael",
   "metadata": {},
   "outputs": [
    {
     "data": {
      "text/plain": [
       "28.16"
      ]
     },
     "execution_count": 25,
     "metadata": {},
     "output_type": "execute_result"
    }
   ],
   "source": [
    "per = quote_table['PE Ratio (TTM)']\n",
    "per"
   ]
  },
  {
   "cell_type": "markdown",
   "id": "subject-permission",
   "metadata": {},
   "source": [
    "## Expected EPS * PER."
   ]
  },
  {
   "cell_type": "code",
   "execution_count": 26,
   "id": "hybrid-florence",
   "metadata": {},
   "outputs": [
    {
     "data": {
      "text/plain": [
       "125.31200000000001"
      ]
     },
     "execution_count": 26,
     "metadata": {},
     "output_type": "execute_result"
    }
   ],
   "source": [
    "eps * per"
   ]
  },
  {
   "cell_type": "markdown",
   "id": "increasing-newport",
   "metadata": {},
   "source": [
    "## Live Price"
   ]
  },
  {
   "cell_type": "code",
   "execution_count": 23,
   "id": "corrected-royalty",
   "metadata": {},
   "outputs": [
    {
     "data": {
      "text/plain": [
       "125.27999877929688"
      ]
     },
     "execution_count": 23,
     "metadata": {},
     "output_type": "execute_result"
    }
   ],
   "source": [
    "si.get_live_price(\"aapl\")"
   ]
  },
  {
   "cell_type": "markdown",
   "id": "adolescent-demonstration",
   "metadata": {},
   "source": [
    "If Espected EPS * PER is lower than the live price, we diagnose that the stock price is undervalued.\n",
    "\n",
    "If Espected EPS * PER is higher than the live price, we diagnose that the stock price is overvalued."
   ]
  },
  {
   "cell_type": "code",
   "execution_count": 23,
   "id": "upset-nation",
   "metadata": {},
   "outputs": [
    {
     "name": "stdout",
     "output_type": "stream",
     "text": [
      "23:57:34.389811\n"
     ]
    }
   ],
   "source": [
    "import datetime\n",
    "print(datetime.datetime.now().time())"
   ]
  },
  {
   "cell_type": "code",
   "execution_count": 20,
   "id": "electronic-concept",
   "metadata": {},
   "outputs": [
    {
     "name": "stdout",
     "output_type": "stream",
     "text": [
      "no eps*per for QQQ\n",
      "2363.0096\n",
      "2362.679931640625\n"
     ]
    }
   ],
   "source": [
    "symbols = 'QQQ,GOOGL'\n",
    "symbols = symbols.split(',')\n",
    "for symbol in symbols:\n",
    "    quote_table = si.get_quote_table(symbol, dict_result=True)\n",
    "    try:\n",
    "        eps = quote_table['EPS (TTM)']\n",
    "        per = quote_table['PE Ratio (TTM)']\n",
    "        print(eps*per)\n",
    "        print(si.get_live_price(symbol))\n",
    "    except:\n",
    "        print(f'no eps*per for {symbol}')\n"
   ]
  },
  {
   "cell_type": "code",
   "execution_count": 22,
   "id": "stock-toddler",
   "metadata": {},
   "outputs": [
    {
     "data": {
      "text/html": [
       "<div>\n",
       "<style scoped>\n",
       "    .dataframe tbody tr th:only-of-type {\n",
       "        vertical-align: middle;\n",
       "    }\n",
       "\n",
       "    .dataframe tbody tr th {\n",
       "        vertical-align: top;\n",
       "    }\n",
       "\n",
       "    .dataframe thead th {\n",
       "        text-align: right;\n",
       "    }\n",
       "</style>\n",
       "<table border=\"1\" class=\"dataframe\">\n",
       "  <thead>\n",
       "    <tr style=\"text-align: right;\">\n",
       "      <th></th>\n",
       "      <th>0</th>\n",
       "      <th>1</th>\n",
       "    </tr>\n",
       "  </thead>\n",
       "  <tbody>\n",
       "    <tr>\n",
       "      <th>0</th>\n",
       "      <td>2363.0096</td>\n",
       "      <td>2362.679932</td>\n",
       "    </tr>\n",
       "    <tr>\n",
       "      <th>1</th>\n",
       "      <td>1.0000</td>\n",
       "      <td>2.000000</td>\n",
       "    </tr>\n",
       "  </tbody>\n",
       "</table>\n",
       "</div>"
      ],
      "text/plain": [
       "           0            1\n",
       "0  2363.0096  2362.679932\n",
       "1     1.0000     2.000000"
      ]
     },
     "execution_count": 22,
     "metadata": {},
     "output_type": "execute_result"
    }
   ],
   "source": [
    "pd.DataFrame([[eps*per, si.get_live_price(symbol)], [1, 2]])"
   ]
  }
 ],
 "metadata": {
  "kernelspec": {
   "display_name": "Python 3",
   "language": "python",
   "name": "python3"
  },
  "language_info": {
   "codemirror_mode": {
    "name": "ipython",
    "version": 3
   },
   "file_extension": ".py",
   "mimetype": "text/x-python",
   "name": "python",
   "nbconvert_exporter": "python",
   "pygments_lexer": "ipython3",
   "version": "3.8.5"
  }
 },
 "nbformat": 4,
 "nbformat_minor": 5
}
